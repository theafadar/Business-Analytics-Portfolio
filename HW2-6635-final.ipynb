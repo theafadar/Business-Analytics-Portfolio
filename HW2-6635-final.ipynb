{
 "cells": [
  {
   "cell_type": "markdown",
   "id": "7dc9b608-c3ed-4b14-9c7d-bb1e5fd7b4cb",
   "metadata": {},
   "source": [
    "## 6355 - Python HW#2 - Data wrangling with Pandas"
   ]
  },
  {
   "cell_type": "markdown",
   "id": "899d7e26-c267-49cc-8b74-7c02a4047443",
   "metadata": {},
   "source": [
    "The objective of the document is to go through a data set and apply data wrangling tecniques using the following steps:"
   ]
  },
  {
   "cell_type": "markdown",
   "id": "d8207a2e-f312-48fd-8132-f38b5a017942",
   "metadata": {},
   "source": [
    "1. Load the iris.csv file into a data frame in Python.\n",
    "2. Identify the datatypes\n",
    "3. Compute the mean, standard deviation, max, min across four features for each species –\n",
    "provide summary.\n",
    "4. Slice the data and create subsets for each species.\n",
    "5. Further slice the data to where sepal width is greater than 2 for each species.\n",
    "6. Provide summaries of the data subset thus generated.\n",
    "7. Generate scatterplots for each subset with sepal length and petal length.\n",
    "8. Generate bar plots for sepal length and petal length by species.\n",
    "9. Save the scatterplots created in Steps 7 and 8 in a Word document."
   ]
  },
  {
   "cell_type": "markdown",
   "id": "34340c18-664b-46d1-a7e5-87439a4db004",
   "metadata": {},
   "source": [
    "### Step 0: Preparing Pandas"
   ]
  },
  {
   "cell_type": "markdown",
   "id": "44e0bf71-b32e-4e43-a64e-4367acfc01bb",
   "metadata": {},
   "source": [
    "To load Pandas into Jupyter, we use the following code:\n",
    "`import pandas as pd`\n",
    "This would output the following:"
   ]
  },
  {
   "cell_type": "code",
   "execution_count": 3,
   "id": "26ed8523-7718-4a28-8d8e-425eb8854cc2",
   "metadata": {},
   "outputs": [],
   "source": [
    "import pandas as pd"
   ]
  },
  {
   "cell_type": "markdown",
   "id": "65d2b171-8dd0-4766-af34-9cdc7174cab9",
   "metadata": {},
   "source": [
    "### Step 1: Loading CSV"
   ]
  },
  {
   "cell_type": "markdown",
   "id": "b3e5dc19-c2ca-4de7-8f48-d78647c5ad41",
   "metadata": {},
   "source": [
    "In order to load the data into Jupyter Notebook, we upload the file into the same folder as our code/notebook file. Then use the following code:  \n",
    "\n",
    "`data = pd.read_csv(\"iris.csv\")`"
   ]
  },
  {
   "cell_type": "code",
   "execution_count": 4,
   "id": "4244873a-21a2-4d3d-8888-c262fb7b7cef",
   "metadata": {},
   "outputs": [],
   "source": [
    "data = pd.read_csv(\"iris.csv\")"
   ]
  },
  {
   "cell_type": "markdown",
   "id": "96da5368-1d3d-484f-8dcb-79eca357ea0a",
   "metadata": {},
   "source": [
    "### Step 2: Identifying datatypes"
   ]
  },
  {
   "cell_type": "markdown",
   "id": "5e3de421-9e01-4c64-a6ce-8e042b19df1f",
   "metadata": {},
   "source": [
    "There are two ways to identify the datatypes in the sheet. One would be using the below `info` function like the below: \n",
    "`data.info()'\n",
    "It would give us the following output:"
   ]
  },
  {
   "cell_type": "code",
   "execution_count": 5,
   "id": "7dfb9a1b-685e-4d16-ad81-7a018c92f032",
   "metadata": {},
   "outputs": [
    {
     "name": "stdout",
     "output_type": "stream",
     "text": [
      "<class 'pandas.core.frame.DataFrame'>\n",
      "RangeIndex: 150 entries, 0 to 149\n",
      "Data columns (total 5 columns):\n",
      " #   Column        Non-Null Count  Dtype  \n",
      "---  ------        --------------  -----  \n",
      " 0   sepal.length  150 non-null    float64\n",
      " 1   sepal.width   150 non-null    float64\n",
      " 2   petal.length  150 non-null    float64\n",
      " 3   petal.width   150 non-null    float64\n",
      " 4   variety       150 non-null    object \n",
      "dtypes: float64(4), object(1)\n",
      "memory usage: 6.0+ KB\n"
     ]
    }
   ],
   "source": [
    "import pandas as pd\n",
    "data = pd.read_csv(\"iris.csv\")\n",
    "data.info()"
   ]
  },
  {
   "cell_type": "markdown",
   "id": "5a0f41d6-957e-4c28-95b9-e3c67cd79efc",
   "metadata": {},
   "source": [
    "Another way is to use the `dtype` function, such as using the below code snippet:\n",
    "`print(data.dtypes)`"
   ]
  },
  {
   "cell_type": "code",
   "execution_count": 6,
   "id": "897e4204-f91e-467d-851d-e94a04d504a6",
   "metadata": {},
   "outputs": [
    {
     "name": "stdout",
     "output_type": "stream",
     "text": [
      "sepal.length    float64\n",
      "sepal.width     float64\n",
      "petal.length    float64\n",
      "petal.width     float64\n",
      "variety          object\n",
      "dtype: object\n"
     ]
    }
   ],
   "source": [
    "import pandas as pd\n",
    "data = pd.read_csv(\"iris.csv\")\n",
    "print(data.dtypes)"
   ]
  },
  {
   "cell_type": "markdown",
   "id": "167dc32e-316f-4594-91fa-e2452e788c7f",
   "metadata": {},
   "source": [
    "### Step 3: Computing mean, standard deviation, max, min  \n",
    "Each computation can be separately using following code lines:\n",
    "Mean:\n",
    "`print(data.mean())` \n",
    "Which gives us the following output:"
   ]
  },
  {
   "cell_type": "code",
   "execution_count": 7,
   "id": "453ada1c-47b2-40ad-9209-b4b6097ffc50",
   "metadata": {},
   "outputs": [
    {
     "name": "stdout",
     "output_type": "stream",
     "text": [
      "sepal.length    5.843333\n",
      "sepal.width     3.057333\n",
      "petal.length    3.758000\n",
      "petal.width     1.199333\n",
      "dtype: float64\n"
     ]
    }
   ],
   "source": [
    "import pandas as pd\n",
    "data = pd.read_csv(\"iris.csv\")\n",
    "print(data.mean(numeric_only=True))"
   ]
  },
  {
   "cell_type": "markdown",
   "id": "2a66c93f-b3aa-4cd1-bd36-264c91194d1c",
   "metadata": {},
   "source": [
    "Standard deviation:\n",
    "`print(data.std(numeric_only=True))`\n",
    "Which gives us the following output:"
   ]
  },
  {
   "cell_type": "code",
   "execution_count": 8,
   "id": "bd9c2098-d579-4a10-9f8b-cab5563a46cc",
   "metadata": {},
   "outputs": [
    {
     "name": "stdout",
     "output_type": "stream",
     "text": [
      "sepal.length    0.828066\n",
      "sepal.width     0.435866\n",
      "petal.length    1.765298\n",
      "petal.width     0.762238\n",
      "dtype: float64\n"
     ]
    }
   ],
   "source": [
    "import pandas as pd\n",
    "data = pd.read_csv(\"iris.csv\")\n",
    "print(data.std(numeric_only=True))"
   ]
  },
  {
   "cell_type": "markdown",
   "id": "bf75a617-04b7-4bea-98db-62baed341aaf",
   "metadata": {},
   "source": [
    "Maximum:\n",
    "`print(data.max(numeric_only=True))`\n",
    "Which gives us the following output:"
   ]
  },
  {
   "cell_type": "code",
   "execution_count": 9,
   "id": "29d1a896-935a-4620-a8ca-d6d6e8bc642f",
   "metadata": {},
   "outputs": [
    {
     "name": "stdout",
     "output_type": "stream",
     "text": [
      "sepal.length    7.9\n",
      "sepal.width     4.4\n",
      "petal.length    6.9\n",
      "petal.width     2.5\n",
      "dtype: float64\n"
     ]
    }
   ],
   "source": [
    "import pandas as pd\n",
    "data = pd.read_csv(\"iris.csv\")\n",
    "print(data.max(numeric_only=True))"
   ]
  },
  {
   "cell_type": "markdown",
   "id": "910562fe-9162-489f-b0ff-ecd251bf3ca1",
   "metadata": {},
   "source": [
    "Minimum:\n",
    "`print(data.min(numeric_only=True))`\n",
    "Which gives us the following output:"
   ]
  },
  {
   "cell_type": "code",
   "execution_count": 10,
   "id": "09b62a76-22ec-49be-86c3-544b3f7c2c9e",
   "metadata": {},
   "outputs": [
    {
     "name": "stdout",
     "output_type": "stream",
     "text": [
      "sepal.length    4.3\n",
      "sepal.width     2.0\n",
      "petal.length    1.0\n",
      "petal.width     0.1\n",
      "dtype: float64\n"
     ]
    }
   ],
   "source": [
    "import pandas as pd\n",
    "data = pd.read_csv(\"iris.csv\")\n",
    "print(data.min(numeric_only=True))"
   ]
  },
  {
   "cell_type": "markdown",
   "id": "00fa2fa5-a429-469c-9a7a-78158cd67f20",
   "metadata": {},
   "source": [
    "### Step 4: Creating subsets  \n",
    "Before creating  an additional step, the below code was used to identify all species in the dataset:  \n",
    "`unique_values = data['variety'].unique()   \n",
    "print(unique_values)`\n",
    "Giving us the below output:"
   ]
  },
  {
   "cell_type": "code",
   "execution_count": 11,
   "id": "e2dbeec8-593b-4523-9219-786b53aafc61",
   "metadata": {},
   "outputs": [
    {
     "name": "stdout",
     "output_type": "stream",
     "text": [
      "['Setosa' 'Versicolor' 'Virginica']\n"
     ]
    }
   ],
   "source": [
    "import pandas as pd\n",
    "data = pd.read_csv(\"iris.csv\")\n",
    "unique_values = data['variety'].unique() \n",
    "print(unique_values)"
   ]
  },
  {
   "cell_type": "markdown",
   "id": "73161c65-623d-4610-afdf-d076e71d540b",
   "metadata": {},
   "source": [
    "Based on this, we are able to know that three subsets need to be created. This can be done with the below     \n",
    "`setosa = data[data[\"variety\"] == \"setosa\"]` \n",
    "`versicolor = data[data[\"variety\"] == \"versicolor\"]`   \n",
    "`virginica = data[data[\"variety\"] == \"virginica\"]`  "
   ]
  },
  {
   "cell_type": "code",
   "execution_count": 12,
   "id": "23c1eb1c-ea05-4661-97ba-302d1cdd4ae4",
   "metadata": {},
   "outputs": [],
   "source": [
    "import pandas as pd\n",
    "data = pd.read_csv(\"iris.csv\")\n",
    "setosa = data[data[\"variety\"] == \"setosa\"] \n",
    "versicolor = data[data[\"variety\"] == \"versicolor\"] \n",
    "virginica = data[data[\"variety\"] == \"virginica\"]"
   ]
  },
  {
   "cell_type": "markdown",
   "id": "807a4a9e-e298-47d1-b808-f48fcb1a075b",
   "metadata": {},
   "source": [
    "There will be no ouput for the above codes, however, we can use the below to confirm that the subsets have been created:  \n",
    "`print(\"Setosa Subset:\") \n",
    "print(setosa.head())\n",
    "print(\"Versicolor Subset:\") \n",
    "print(versicolor.head()) \n",
    "print(\"Virginica Subset:\") \n",
    "print(virginica.head())`"
   ]
  },
  {
   "cell_type": "code",
   "execution_count": 13,
   "id": "9e07226d-179c-4ec2-b1fd-7aeb3eca26bc",
   "metadata": {},
   "outputs": [
    {
     "name": "stdout",
     "output_type": "stream",
     "text": [
      "Setosa Subset:\n",
      "Empty DataFrame\n",
      "Columns: [sepal.length, sepal.width, petal.length, petal.width, variety]\n",
      "Index: []\n",
      "Versicolor Subset:\n",
      "Empty DataFrame\n",
      "Columns: [sepal.length, sepal.width, petal.length, petal.width, variety]\n",
      "Index: []\n",
      "Virginica Subset:\n",
      "Empty DataFrame\n",
      "Columns: [sepal.length, sepal.width, petal.length, petal.width, variety]\n",
      "Index: []\n"
     ]
    }
   ],
   "source": [
    "import pandas as pd\n",
    "data = pd.read_csv(\"iris.csv\")\n",
    "setosa = data[data[\"variety\"] == \"setosa\"] \n",
    "print(\"Setosa Subset:\") \n",
    "print(setosa.head())\n",
    "versicolor = data[data[\"variety\"] == \"versicolor\"] \n",
    "print(\"Versicolor Subset:\") \n",
    "print(versicolor.head()) \n",
    "virginica = data[data[\"variety\"] == \"virginica\"]\n",
    "print(\"Virginica Subset:\") \n",
    "print(virginica.head()) "
   ]
  },
  {
   "cell_type": "markdown",
   "id": "1013e6e1-dae9-49ea-b50d-b2aff07c9788",
   "metadata": {},
   "source": [
    "### Step 5: Slicing the data to where sepal width is greater than 2 for each variety  "
   ]
  },
  {
   "cell_type": "markdown",
   "id": "d04635dd-427a-479e-89c4-b805e041c902",
   "metadata": {},
   "source": [
    "In order to slice the data according to the given attribute, we have to follow the below code:  \n",
    "`setosa_filtered = data[(data[\"variety\"] == \"Setosa\") & (data[\"sepal.width\"] > 2)]`  \n",
    "`versicolor_filtered = data[(data[\"variety\"] == \"Versicolor\") & (data[\"sepal.width\"] > 2)]`    \n",
    "`virginica_filtered = data[(data[\"variety\"] == \"Virginica\") & (data[\"sepal.width\"] > 2)]`"
   ]
  },
  {
   "cell_type": "code",
   "execution_count": 14,
   "id": "235b88c6-e84f-4a87-aafb-cfae2dbf2f1b",
   "metadata": {},
   "outputs": [],
   "source": [
    "import pandas as pd\n",
    "data = pd.read_csv(\"iris.csv\")\n",
    "setosa = data[data[\"variety\"] == \"setosa\"] \n",
    "versicolor = data[data[\"variety\"] == \"versicolor\"] \n",
    "virginica = data[data[\"variety\"] == \"virginica\"]\n",
    "setosa_filtered = data[(data[\"variety\"] == \"Setosa\") & (data[\"sepal.width\"] > 2)] \n",
    "versicolor_filtered = data[(data[\"variety\"] == \"Versicolor\") & (data[\"sepal.width\"] > 2)] \n",
    "virginica_filtered = data[(data[\"variety\"] == \"Virginica\") & (data[\"sepal.width\"] > 2)]"
   ]
  },
  {
   "cell_type": "markdown",
   "id": "15a62d6f-a661-40ad-b938-74cec0c1a45d",
   "metadata": {},
   "source": [
    "Confirming again the output of the code, we use the following:   \n",
    "`print(\"Setosa Filtered Data:\\n\", setosa_filtered.head())`  \n",
    "`print(\"Versicolor Filtered Data:\\n\", versicolor_filtered.head())`  \n",
    "`print(\"Virginica Filtered Data:\\n\", virginica_filtered.head())`   "
   ]
  },
  {
   "cell_type": "code",
   "execution_count": 15,
   "id": "c1e90b40-36b2-4782-8c79-cac289dba0bc",
   "metadata": {},
   "outputs": [
    {
     "name": "stdout",
     "output_type": "stream",
     "text": [
      "Setosa Filtered Data:\n",
      "    sepal.length  sepal.width  petal.length  petal.width variety\n",
      "0           5.1          3.5           1.4          0.2  Setosa\n",
      "1           4.9          3.0           1.4          0.2  Setosa\n",
      "2           4.7          3.2           1.3          0.2  Setosa\n",
      "3           4.6          3.1           1.5          0.2  Setosa\n",
      "4           5.0          3.6           1.4          0.2  Setosa\n",
      "Versicolor Filtered Data:\n",
      "     sepal.length  sepal.width  petal.length  petal.width     variety\n",
      "50           7.0          3.2           4.7          1.4  Versicolor\n",
      "51           6.4          3.2           4.5          1.5  Versicolor\n",
      "52           6.9          3.1           4.9          1.5  Versicolor\n",
      "53           5.5          2.3           4.0          1.3  Versicolor\n",
      "54           6.5          2.8           4.6          1.5  Versicolor\n",
      "Virginica Filtered Data:\n",
      "      sepal.length  sepal.width  petal.length  petal.width    variety\n",
      "100           6.3          3.3           6.0          2.5  Virginica\n",
      "101           5.8          2.7           5.1          1.9  Virginica\n",
      "102           7.1          3.0           5.9          2.1  Virginica\n",
      "103           6.3          2.9           5.6          1.8  Virginica\n",
      "104           6.5          3.0           5.8          2.2  Virginica\n"
     ]
    }
   ],
   "source": [
    "import pandas as pd\n",
    "data = pd.read_csv(\"iris.csv\")\n",
    "setosa = data[data[\"variety\"] == \"setosa\"] \n",
    "versicolor = data[data[\"variety\"] == \"versicolor\"] \n",
    "virginica = data[data[\"variety\"] == \"virginica\"]\n",
    "setosa_filtered = data[(data[\"variety\"] == \"Setosa\") & (data[\"sepal.width\"] > 2)] \n",
    "versicolor_filtered = data[(data[\"variety\"] == \"Versicolor\") & (data[\"sepal.width\"] > 2)] \n",
    "virginica_filtered = data[(data[\"variety\"] == \"Virginica\") & (data[\"sepal.width\"] > 2)]\n",
    "print(\"Setosa Filtered Data:\\n\", setosa_filtered.head()) \n",
    "print(\"Versicolor Filtered Data:\\n\", versicolor_filtered.head())\n",
    "print(\"Virginica Filtered Data:\\n\", virginica_filtered.head())"
   ]
  },
  {
   "cell_type": "markdown",
   "id": "c30c02f0-0553-4b8d-8aaf-6a59eea8bf09",
   "metadata": {},
   "source": [
    "### Step 6: Summarizing subsets  \n",
    "By summarizing, we mean providing quick statistics for the subsets, which would include: count, mean, standard deviation, and others. \n",
    "For that we the `describe()`function as follows:\n",
    "`setosa_filtered.describe()\n",
    "versicolor_filtered.describe()\n",
    "virginica_filtered.describe()`\n",
    "Giving us the below output:"
   ]
  },
  {
   "cell_type": "code",
   "execution_count": 16,
   "id": "7f3f2dc6-8ed1-4b55-a50f-df8897b2b868",
   "metadata": {},
   "outputs": [
    {
     "data": {
      "text/html": [
       "<div>\n",
       "<style scoped>\n",
       "    .dataframe tbody tr th:only-of-type {\n",
       "        vertical-align: middle;\n",
       "    }\n",
       "\n",
       "    .dataframe tbody tr th {\n",
       "        vertical-align: top;\n",
       "    }\n",
       "\n",
       "    .dataframe thead th {\n",
       "        text-align: right;\n",
       "    }\n",
       "</style>\n",
       "<table border=\"1\" class=\"dataframe\">\n",
       "  <thead>\n",
       "    <tr style=\"text-align: right;\">\n",
       "      <th></th>\n",
       "      <th>sepal.length</th>\n",
       "      <th>sepal.width</th>\n",
       "      <th>petal.length</th>\n",
       "      <th>petal.width</th>\n",
       "    </tr>\n",
       "  </thead>\n",
       "  <tbody>\n",
       "    <tr>\n",
       "      <th>count</th>\n",
       "      <td>50.00000</td>\n",
       "      <td>50.000000</td>\n",
       "      <td>50.000000</td>\n",
       "      <td>50.00000</td>\n",
       "    </tr>\n",
       "    <tr>\n",
       "      <th>mean</th>\n",
       "      <td>6.58800</td>\n",
       "      <td>2.974000</td>\n",
       "      <td>5.552000</td>\n",
       "      <td>2.02600</td>\n",
       "    </tr>\n",
       "    <tr>\n",
       "      <th>std</th>\n",
       "      <td>0.63588</td>\n",
       "      <td>0.322497</td>\n",
       "      <td>0.551895</td>\n",
       "      <td>0.27465</td>\n",
       "    </tr>\n",
       "    <tr>\n",
       "      <th>min</th>\n",
       "      <td>4.90000</td>\n",
       "      <td>2.200000</td>\n",
       "      <td>4.500000</td>\n",
       "      <td>1.40000</td>\n",
       "    </tr>\n",
       "    <tr>\n",
       "      <th>25%</th>\n",
       "      <td>6.22500</td>\n",
       "      <td>2.800000</td>\n",
       "      <td>5.100000</td>\n",
       "      <td>1.80000</td>\n",
       "    </tr>\n",
       "    <tr>\n",
       "      <th>50%</th>\n",
       "      <td>6.50000</td>\n",
       "      <td>3.000000</td>\n",
       "      <td>5.550000</td>\n",
       "      <td>2.00000</td>\n",
       "    </tr>\n",
       "    <tr>\n",
       "      <th>75%</th>\n",
       "      <td>6.90000</td>\n",
       "      <td>3.175000</td>\n",
       "      <td>5.875000</td>\n",
       "      <td>2.30000</td>\n",
       "    </tr>\n",
       "    <tr>\n",
       "      <th>max</th>\n",
       "      <td>7.90000</td>\n",
       "      <td>3.800000</td>\n",
       "      <td>6.900000</td>\n",
       "      <td>2.50000</td>\n",
       "    </tr>\n",
       "  </tbody>\n",
       "</table>\n",
       "</div>"
      ],
      "text/plain": [
       "       sepal.length  sepal.width  petal.length  petal.width\n",
       "count      50.00000    50.000000     50.000000     50.00000\n",
       "mean        6.58800     2.974000      5.552000      2.02600\n",
       "std         0.63588     0.322497      0.551895      0.27465\n",
       "min         4.90000     2.200000      4.500000      1.40000\n",
       "25%         6.22500     2.800000      5.100000      1.80000\n",
       "50%         6.50000     3.000000      5.550000      2.00000\n",
       "75%         6.90000     3.175000      5.875000      2.30000\n",
       "max         7.90000     3.800000      6.900000      2.50000"
      ]
     },
     "execution_count": 16,
     "metadata": {},
     "output_type": "execute_result"
    }
   ],
   "source": [
    "import pandas as pd\n",
    "data = pd.read_csv(\"iris.csv\")\n",
    "setosa = data[data[\"variety\"] == \"setosa\"] \n",
    "versicolor = data[data[\"variety\"] == \"versicolor\"] \n",
    "virginica = data[data[\"variety\"] == \"virginica\"]\n",
    "setosa_filtered = data[(data[\"variety\"] == \"Setosa\") & (data[\"sepal.width\"] > 2)] \n",
    "versicolor_filtered = data[(data[\"variety\"] == \"Versicolor\") & (data[\"sepal.width\"] > 2)] \n",
    "virginica_filtered = data[(data[\"variety\"] == \"Virginica\") & (data[\"sepal.width\"] > 2)]\n",
    "filtered_data = pd.concat([setosa_filtered, versicolor_filtered, virginica_filtered])\n",
    "setosa_filtered.describe()\n",
    "versicolor_filtered.describe()\n",
    "virginica_filtered.describe()"
   ]
  },
  {
   "cell_type": "markdown",
   "id": "d9d31079-d8bc-4bf4-b57a-81695772bd4c",
   "metadata": {},
   "source": [
    "### Step 7: Creating scatterplots  \n",
    "The very first step for visualizing data within Python is use the `matplot` library. Therefore, before using any scatterplot functions, we have to load matplot first. This would be using the following code:  \n",
    "`import matplotlib.pyplot as plt`  \n",
    "In our case, it did not work immediately. So we had to install it first with this code `!pip install matplotlib`\n",
    "Once loaded, we can continue by specifying the the data using the following code:\n",
    "def plot_scatter_matplotlib(data, species_name): plt.scatter(data[\"sepal.length\"], data[\"petal.length\"]) plt.show() "
   ]
  },
  {
   "cell_type": "code",
   "execution_count": 17,
   "id": "f9d063d3-b2e8-4d23-83f0-821bb5bbcb48",
   "metadata": {},
   "outputs": [
    {
     "name": "stdout",
     "output_type": "stream",
     "text": [
      "Requirement already satisfied: matplotlib in /opt/anaconda3/lib/python3.12/site-packages (3.10.0)\n",
      "Requirement already satisfied: contourpy>=1.0.1 in /opt/anaconda3/lib/python3.12/site-packages (from matplotlib) (1.2.0)\n",
      "Requirement already satisfied: cycler>=0.10 in /opt/anaconda3/lib/python3.12/site-packages (from matplotlib) (0.12.1)\n",
      "Requirement already satisfied: fonttools>=4.22.0 in /opt/anaconda3/lib/python3.12/site-packages (from matplotlib) (4.55.8)\n",
      "Requirement already satisfied: kiwisolver>=1.3.1 in /opt/anaconda3/lib/python3.12/site-packages (from matplotlib) (1.4.8)\n",
      "Requirement already satisfied: numpy>=1.23 in /opt/anaconda3/lib/python3.12/site-packages (from matplotlib) (1.26.4)\n",
      "Requirement already satisfied: packaging>=20.0 in /opt/anaconda3/lib/python3.12/site-packages (from matplotlib) (24.1)\n",
      "Requirement already satisfied: pillow>=8 in /opt/anaconda3/lib/python3.12/site-packages (from matplotlib) (10.4.0)\n",
      "Requirement already satisfied: pyparsing>=2.3.1 in /opt/anaconda3/lib/python3.12/site-packages (from matplotlib) (3.2.1)\n",
      "Requirement already satisfied: python-dateutil>=2.7 in /opt/anaconda3/lib/python3.12/site-packages (from matplotlib) (2.9.0.post0)\n",
      "Requirement already satisfied: six>=1.5 in /opt/anaconda3/lib/python3.12/site-packages (from python-dateutil>=2.7->matplotlib) (1.16.0)\n"
     ]
    },
    {
     "data": {
      "image/png": "[encoded data removed]",
      "text/plain": [
       "<Figure size 640x480 with 1 Axes>"
      ]
     },
     "metadata": {},
     "output_type": "display_data"
    }
   ],
   "source": [
    "import pandas as pd\n",
    "!pip install matplotlib\n",
    "import matplotlib.pyplot as plt\n",
    "data = pd.read_csv(\"iris.csv\")\n",
    "setosa = data[data[\"variety\"] == \"setosa\"] \n",
    "versicolor = data[data[\"variety\"] == \"versicolor\"] \n",
    "virginica = data[data[\"variety\"] == \"virginica\"]\n",
    "setosa_filtered = data[(data[\"variety\"] == \"Setosa\") & (data[\"sepal.width\"] > 2)] \n",
    "versicolor_filtered = data[(data[\"variety\"] == \"Versicolor\") & (data[\"sepal.width\"] > 2)] \n",
    "virginica_filtered = data[(data[\"variety\"] == \"Virginica\") & (data[\"sepal.width\"] > 2)]\n",
    "filtered_data = pd.concat([setosa_filtered, versicolor_filtered, virginica_filtered])\n",
    "plt.scatter(setosa_filtered[\"sepal.length\"], setosa_filtered[\"petal.length\"])\n",
    "plt.scatter(versicolor_filtered[\"sepal.length\"], versicolor_filtered[\"petal.length\"])\n",
    "plt.scatter(virginica_filtered[\"sepal.length\"], virginica_filtered[\"petal.length\"])\n",
    "plt.show()"
   ]
  },
  {
   "cell_type": "code",
   "execution_count": 18,
   "id": "b482ac8b-10c3-4559-afc4-765613a9dfe1",
   "metadata": {},
   "outputs": [
    {
     "data": {
      "image/png": "[encoded data removed]",
      "text/plain": [
       "<Figure size 800x600 with 1 Axes>"
      ]
     },
     "metadata": {},
     "output_type": "display_data"
    }
   ],
   "source": [
    "import pandas as pd\n",
    "import matplotlib.pyplot as plt\n",
    "data = pd.read_csv(\"iris.csv\")\n",
    " \n",
    "variety_counts = data['variety'].value_counts()\n",
    " \n",
    "plt.figure(figsize=(8, 6))\n",
    "plt.bar(variety_counts.index, variety_counts.values)\n",
    "plt.xlabel(\"Variety Type\")\n",
    "plt.ylabel(\"Frequency\")\n",
    "plt.title(\"Count of Each Plant Variety\")\n",
    " \n",
    "plt.show()"
   ]
  }
 ],
 "metadata": {
  "kernelspec": {
   "display_name": "Python [conda env:anaconda3]",
   "language": "python",
   "name": "conda-env-anaconda3-py"
  },
  "language_info": {
   "codemirror_mode": {
    "name": "ipython",
    "version": 3
   },
   "file_extension": ".py",
   "mimetype": "text/x-python",
   "name": "python",
   "nbconvert_exporter": "python",
   "pygments_lexer": "ipython3",
   "version": "3.12.2"
  }
 },
 "nbformat": 4,
 "nbformat_minor": 5
}
